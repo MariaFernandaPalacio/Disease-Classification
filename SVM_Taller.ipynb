{
  "cells": [
    {
      "cell_type": "markdown",
      "metadata": {
        "id": "tTdkJwap8V73"
      },
      "source": [
        "\n",
        "María Fernanda Palacio"
      ]
    },
    {
      "cell_type": "markdown",
      "metadata": {
        "id": "JY8MSq-XHiPU"
      },
      "source": [
        "Usaremos máquinas de soporte vectorial para determinar si un paciente tiene o no enfermedad en el corazón. Utilizaremos los datos en [heart disease](https://archive.ics.uci.edu/ml/datasets/Heart+Disease) que se encuentran en el [UCI Machine Learning Repository](https://archive.ics.uci.edu/ml/index.php).\n",
        "\n"
      ]
    },
    {
      "cell_type": "code",
      "execution_count": null,
      "metadata": {
        "id": "wRZyD6uTGGyb"
      },
      "outputs": [],
      "source": [
        "import pandas as pd\n",
        "import numpy as np\n",
        "import matplotlib.pyplot as plt\n",
        "import matplotlib.colors as colors\n",
        "from sklearn.model_selection import train_test_split\n",
        "from sklearn import preprocessing\n",
        "from sklearn.svm import SVC\n",
        "from sklearn.model_selection import GridSearchCV\n",
        "from sklearn.metrics import confusion_matrix\n",
        "from sklearn.metrics import plot_confusion_matrix\n",
        "from sklearn.decomposition import PCA"
      ]
    },
    {
      "cell_type": "code",
      "execution_count": null,
      "metadata": {
        "id": "ZL7icU2CLDZ-"
      },
      "outputs": [],
      "source": [
        "df=pd.read_csv('HeartDisease.csv')"
      ]
    },
    {
      "cell_type": "code",
      "execution_count": null,
      "metadata": {
        "id": "d27BN0RLLUP2",
        "outputId": "5d7261d0-d963-4323-f3d2-76ed243bf268"
      },
      "outputs": [
        {
          "data": {
            "text/html": [
              "<div>\n",
              "<style scoped>\n",
              "    .dataframe tbody tr th:only-of-type {\n",
              "        vertical-align: middle;\n",
              "    }\n",
              "\n",
              "    .dataframe tbody tr th {\n",
              "        vertical-align: top;\n",
              "    }\n",
              "\n",
              "    .dataframe thead th {\n",
              "        text-align: right;\n",
              "    }\n",
              "</style>\n",
              "<table border=\"1\" class=\"dataframe\">\n",
              "  <thead>\n",
              "    <tr style=\"text-align: right;\">\n",
              "      <th></th>\n",
              "      <th>Unnamed: 0</th>\n",
              "      <th>age</th>\n",
              "      <th>sex</th>\n",
              "      <th>cp</th>\n",
              "      <th>restbp</th>\n",
              "      <th>chol</th>\n",
              "      <th>fbs</th>\n",
              "      <th>restecg</th>\n",
              "      <th>thalach</th>\n",
              "      <th>exang</th>\n",
              "      <th>oldpeak</th>\n",
              "      <th>slope</th>\n",
              "      <th>ca</th>\n",
              "      <th>thal</th>\n",
              "      <th>hd</th>\n",
              "    </tr>\n",
              "  </thead>\n",
              "  <tbody>\n",
              "    <tr>\n",
              "      <th>0</th>\n",
              "      <td>0</td>\n",
              "      <td>63.0</td>\n",
              "      <td>1.0</td>\n",
              "      <td>1.0</td>\n",
              "      <td>145.0</td>\n",
              "      <td>233.0</td>\n",
              "      <td>1.0</td>\n",
              "      <td>2.0</td>\n",
              "      <td>150.0</td>\n",
              "      <td>0.0</td>\n",
              "      <td>2.3</td>\n",
              "      <td>3.0</td>\n",
              "      <td>0.0</td>\n",
              "      <td>6.0</td>\n",
              "      <td>0</td>\n",
              "    </tr>\n",
              "    <tr>\n",
              "      <th>1</th>\n",
              "      <td>1</td>\n",
              "      <td>67.0</td>\n",
              "      <td>1.0</td>\n",
              "      <td>4.0</td>\n",
              "      <td>160.0</td>\n",
              "      <td>286.0</td>\n",
              "      <td>0.0</td>\n",
              "      <td>2.0</td>\n",
              "      <td>108.0</td>\n",
              "      <td>1.0</td>\n",
              "      <td>1.5</td>\n",
              "      <td>2.0</td>\n",
              "      <td>3.0</td>\n",
              "      <td>3.0</td>\n",
              "      <td>2</td>\n",
              "    </tr>\n",
              "    <tr>\n",
              "      <th>2</th>\n",
              "      <td>2</td>\n",
              "      <td>67.0</td>\n",
              "      <td>1.0</td>\n",
              "      <td>4.0</td>\n",
              "      <td>120.0</td>\n",
              "      <td>229.0</td>\n",
              "      <td>0.0</td>\n",
              "      <td>2.0</td>\n",
              "      <td>129.0</td>\n",
              "      <td>1.0</td>\n",
              "      <td>2.6</td>\n",
              "      <td>2.0</td>\n",
              "      <td>2.0</td>\n",
              "      <td>7.0</td>\n",
              "      <td>1</td>\n",
              "    </tr>\n",
              "    <tr>\n",
              "      <th>3</th>\n",
              "      <td>3</td>\n",
              "      <td>37.0</td>\n",
              "      <td>1.0</td>\n",
              "      <td>3.0</td>\n",
              "      <td>130.0</td>\n",
              "      <td>250.0</td>\n",
              "      <td>0.0</td>\n",
              "      <td>0.0</td>\n",
              "      <td>187.0</td>\n",
              "      <td>0.0</td>\n",
              "      <td>3.5</td>\n",
              "      <td>3.0</td>\n",
              "      <td>0.0</td>\n",
              "      <td>3.0</td>\n",
              "      <td>0</td>\n",
              "    </tr>\n",
              "    <tr>\n",
              "      <th>4</th>\n",
              "      <td>4</td>\n",
              "      <td>41.0</td>\n",
              "      <td>0.0</td>\n",
              "      <td>2.0</td>\n",
              "      <td>130.0</td>\n",
              "      <td>204.0</td>\n",
              "      <td>0.0</td>\n",
              "      <td>2.0</td>\n",
              "      <td>172.0</td>\n",
              "      <td>0.0</td>\n",
              "      <td>1.4</td>\n",
              "      <td>1.0</td>\n",
              "      <td>0.0</td>\n",
              "      <td>3.0</td>\n",
              "      <td>0</td>\n",
              "    </tr>\n",
              "  </tbody>\n",
              "</table>\n",
              "</div>"
            ],
            "text/plain": [
              "   Unnamed: 0   age  sex   cp  restbp   chol  fbs  restecg  thalach  exang  \\\n",
              "0           0  63.0  1.0  1.0   145.0  233.0  1.0      2.0    150.0    0.0   \n",
              "1           1  67.0  1.0  4.0   160.0  286.0  0.0      2.0    108.0    1.0   \n",
              "2           2  67.0  1.0  4.0   120.0  229.0  0.0      2.0    129.0    1.0   \n",
              "3           3  37.0  1.0  3.0   130.0  250.0  0.0      0.0    187.0    0.0   \n",
              "4           4  41.0  0.0  2.0   130.0  204.0  0.0      2.0    172.0    0.0   \n",
              "\n",
              "   oldpeak  slope   ca thal  hd  \n",
              "0      2.3    3.0  0.0  6.0   0  \n",
              "1      1.5    2.0  3.0  3.0   2  \n",
              "2      2.6    2.0  2.0  7.0   1  \n",
              "3      3.5    3.0  0.0  3.0   0  \n",
              "4      1.4    1.0  0.0  3.0   0  "
            ]
          },
          "execution_count": 3,
          "metadata": {},
          "output_type": "execute_result"
        }
      ],
      "source": [
        "df.head()"
      ]
    },
    {
      "cell_type": "markdown",
      "metadata": {
        "id": "o7LeysfpIqtb"
      },
      "source": [
        "A continuación un resumen de los atributos de este conjunto de datos:"
      ]
    },
    {
      "cell_type": "markdown",
      "metadata": {
        "id": "l__YW_45Ivlt"
      },
      "source": [
        "- **age**,\n",
        "- **sex**,\n",
        "- **cp**, chest pain\n",
        "- **restbp**, resting blood pressure (in mm Hg)\n",
        "- **chol**, serum cholesterol in mg/dl\n",
        "- **fbs**, fasting blood sugar\n",
        "- **restecg**, resting electrocardiographic results\n",
        "- **thalach**,  maximum heart rate achieved\n",
        "- **exang**, exercise induced angina\n",
        "- **oldpeak**, ST depression induced by exercise relative to rest\n",
        "- **slope**, the slope of the peak exercise ST segment.\n",
        "- **ca**, number of major vessels (0-3) colored by fluoroscopy\n",
        "- **thal**, this is short of thalium heart scan.\n",
        "- **hd**, diagnosis of heart disease, the predicted attribute"
      ]
    },
    {
      "cell_type": "markdown",
      "metadata": {
        "id": "whNd6409IC02"
      },
      "source": [
        "Dado que las máquinas de soporte vectorial no aceptan valores faltantes, debemos asegurarnos de que no los haya. En este caso, el porcentaje de datos faltantes consiste en aquellos que tienen una interrogación \"?\" en las columnas 'ca' y 'thal'."
      ]
    },
    {
      "cell_type": "code",
      "execution_count": null,
      "metadata": {
        "id": "JusSV_zfOVAb"
      },
      "outputs": [],
      "source": [
        "df = df.loc[(df['ca'] != '?') & (df['thal'] != '?')]"
      ]
    },
    {
      "cell_type": "code",
      "execution_count": null,
      "metadata": {
        "colab": {
          "base_uri": "https://localhost:8080/",
          "height": 424
        },
        "id": "6vuscO2-PfnD",
        "outputId": "d080a816-f05e-4c4d-a060-f7b142b43d09"
      },
      "outputs": [
        {
          "data": {
            "text/html": [
              "<div>\n",
              "<style scoped>\n",
              "    .dataframe tbody tr th:only-of-type {\n",
              "        vertical-align: middle;\n",
              "    }\n",
              "\n",
              "    .dataframe tbody tr th {\n",
              "        vertical-align: top;\n",
              "    }\n",
              "\n",
              "    .dataframe thead th {\n",
              "        text-align: right;\n",
              "    }\n",
              "</style>\n",
              "<table border=\"1\" class=\"dataframe\">\n",
              "  <thead>\n",
              "    <tr style=\"text-align: right;\">\n",
              "      <th></th>\n",
              "      <th>Unnamed: 0</th>\n",
              "      <th>age</th>\n",
              "      <th>sex</th>\n",
              "      <th>cp</th>\n",
              "      <th>restbp</th>\n",
              "      <th>chol</th>\n",
              "      <th>fbs</th>\n",
              "      <th>restecg</th>\n",
              "      <th>thalach</th>\n",
              "      <th>exang</th>\n",
              "      <th>oldpeak</th>\n",
              "      <th>slope</th>\n",
              "      <th>ca</th>\n",
              "      <th>thal</th>\n",
              "      <th>hd</th>\n",
              "    </tr>\n",
              "  </thead>\n",
              "  <tbody>\n",
              "    <tr>\n",
              "      <th>0</th>\n",
              "      <td>0</td>\n",
              "      <td>63.0</td>\n",
              "      <td>1.0</td>\n",
              "      <td>1.0</td>\n",
              "      <td>145.0</td>\n",
              "      <td>233.0</td>\n",
              "      <td>1.0</td>\n",
              "      <td>2.0</td>\n",
              "      <td>150.0</td>\n",
              "      <td>0.0</td>\n",
              "      <td>2.3</td>\n",
              "      <td>3.0</td>\n",
              "      <td>0.0</td>\n",
              "      <td>6.0</td>\n",
              "      <td>0</td>\n",
              "    </tr>\n",
              "    <tr>\n",
              "      <th>1</th>\n",
              "      <td>1</td>\n",
              "      <td>67.0</td>\n",
              "      <td>1.0</td>\n",
              "      <td>4.0</td>\n",
              "      <td>160.0</td>\n",
              "      <td>286.0</td>\n",
              "      <td>0.0</td>\n",
              "      <td>2.0</td>\n",
              "      <td>108.0</td>\n",
              "      <td>1.0</td>\n",
              "      <td>1.5</td>\n",
              "      <td>2.0</td>\n",
              "      <td>3.0</td>\n",
              "      <td>3.0</td>\n",
              "      <td>2</td>\n",
              "    </tr>\n",
              "    <tr>\n",
              "      <th>2</th>\n",
              "      <td>2</td>\n",
              "      <td>67.0</td>\n",
              "      <td>1.0</td>\n",
              "      <td>4.0</td>\n",
              "      <td>120.0</td>\n",
              "      <td>229.0</td>\n",
              "      <td>0.0</td>\n",
              "      <td>2.0</td>\n",
              "      <td>129.0</td>\n",
              "      <td>1.0</td>\n",
              "      <td>2.6</td>\n",
              "      <td>2.0</td>\n",
              "      <td>2.0</td>\n",
              "      <td>7.0</td>\n",
              "      <td>1</td>\n",
              "    </tr>\n",
              "    <tr>\n",
              "      <th>3</th>\n",
              "      <td>3</td>\n",
              "      <td>37.0</td>\n",
              "      <td>1.0</td>\n",
              "      <td>3.0</td>\n",
              "      <td>130.0</td>\n",
              "      <td>250.0</td>\n",
              "      <td>0.0</td>\n",
              "      <td>0.0</td>\n",
              "      <td>187.0</td>\n",
              "      <td>0.0</td>\n",
              "      <td>3.5</td>\n",
              "      <td>3.0</td>\n",
              "      <td>0.0</td>\n",
              "      <td>3.0</td>\n",
              "      <td>0</td>\n",
              "    </tr>\n",
              "    <tr>\n",
              "      <th>4</th>\n",
              "      <td>4</td>\n",
              "      <td>41.0</td>\n",
              "      <td>0.0</td>\n",
              "      <td>2.0</td>\n",
              "      <td>130.0</td>\n",
              "      <td>204.0</td>\n",
              "      <td>0.0</td>\n",
              "      <td>2.0</td>\n",
              "      <td>172.0</td>\n",
              "      <td>0.0</td>\n",
              "      <td>1.4</td>\n",
              "      <td>1.0</td>\n",
              "      <td>0.0</td>\n",
              "      <td>3.0</td>\n",
              "      <td>0</td>\n",
              "    </tr>\n",
              "    <tr>\n",
              "      <th>...</th>\n",
              "      <td>...</td>\n",
              "      <td>...</td>\n",
              "      <td>...</td>\n",
              "      <td>...</td>\n",
              "      <td>...</td>\n",
              "      <td>...</td>\n",
              "      <td>...</td>\n",
              "      <td>...</td>\n",
              "      <td>...</td>\n",
              "      <td>...</td>\n",
              "      <td>...</td>\n",
              "      <td>...</td>\n",
              "      <td>...</td>\n",
              "      <td>...</td>\n",
              "      <td>...</td>\n",
              "    </tr>\n",
              "    <tr>\n",
              "      <th>297</th>\n",
              "      <td>297</td>\n",
              "      <td>57.0</td>\n",
              "      <td>0.0</td>\n",
              "      <td>4.0</td>\n",
              "      <td>140.0</td>\n",
              "      <td>241.0</td>\n",
              "      <td>0.0</td>\n",
              "      <td>0.0</td>\n",
              "      <td>123.0</td>\n",
              "      <td>1.0</td>\n",
              "      <td>0.2</td>\n",
              "      <td>2.0</td>\n",
              "      <td>0.0</td>\n",
              "      <td>7.0</td>\n",
              "      <td>1</td>\n",
              "    </tr>\n",
              "    <tr>\n",
              "      <th>298</th>\n",
              "      <td>298</td>\n",
              "      <td>45.0</td>\n",
              "      <td>1.0</td>\n",
              "      <td>1.0</td>\n",
              "      <td>110.0</td>\n",
              "      <td>264.0</td>\n",
              "      <td>0.0</td>\n",
              "      <td>0.0</td>\n",
              "      <td>132.0</td>\n",
              "      <td>0.0</td>\n",
              "      <td>1.2</td>\n",
              "      <td>2.0</td>\n",
              "      <td>0.0</td>\n",
              "      <td>7.0</td>\n",
              "      <td>1</td>\n",
              "    </tr>\n",
              "    <tr>\n",
              "      <th>299</th>\n",
              "      <td>299</td>\n",
              "      <td>68.0</td>\n",
              "      <td>1.0</td>\n",
              "      <td>4.0</td>\n",
              "      <td>144.0</td>\n",
              "      <td>193.0</td>\n",
              "      <td>1.0</td>\n",
              "      <td>0.0</td>\n",
              "      <td>141.0</td>\n",
              "      <td>0.0</td>\n",
              "      <td>3.4</td>\n",
              "      <td>2.0</td>\n",
              "      <td>2.0</td>\n",
              "      <td>7.0</td>\n",
              "      <td>2</td>\n",
              "    </tr>\n",
              "    <tr>\n",
              "      <th>300</th>\n",
              "      <td>300</td>\n",
              "      <td>57.0</td>\n",
              "      <td>1.0</td>\n",
              "      <td>4.0</td>\n",
              "      <td>130.0</td>\n",
              "      <td>131.0</td>\n",
              "      <td>0.0</td>\n",
              "      <td>0.0</td>\n",
              "      <td>115.0</td>\n",
              "      <td>1.0</td>\n",
              "      <td>1.2</td>\n",
              "      <td>2.0</td>\n",
              "      <td>1.0</td>\n",
              "      <td>7.0</td>\n",
              "      <td>3</td>\n",
              "    </tr>\n",
              "    <tr>\n",
              "      <th>301</th>\n",
              "      <td>301</td>\n",
              "      <td>57.0</td>\n",
              "      <td>0.0</td>\n",
              "      <td>2.0</td>\n",
              "      <td>130.0</td>\n",
              "      <td>236.0</td>\n",
              "      <td>0.0</td>\n",
              "      <td>2.0</td>\n",
              "      <td>174.0</td>\n",
              "      <td>0.0</td>\n",
              "      <td>0.0</td>\n",
              "      <td>2.0</td>\n",
              "      <td>1.0</td>\n",
              "      <td>3.0</td>\n",
              "      <td>1</td>\n",
              "    </tr>\n",
              "  </tbody>\n",
              "</table>\n",
              "<p>297 rows × 15 columns</p>\n",
              "</div>"
            ],
            "text/plain": [
              "     Unnamed: 0   age  sex   cp  restbp   chol  fbs  restecg  thalach  exang  \\\n",
              "0             0  63.0  1.0  1.0   145.0  233.0  1.0      2.0    150.0    0.0   \n",
              "1             1  67.0  1.0  4.0   160.0  286.0  0.0      2.0    108.0    1.0   \n",
              "2             2  67.0  1.0  4.0   120.0  229.0  0.0      2.0    129.0    1.0   \n",
              "3             3  37.0  1.0  3.0   130.0  250.0  0.0      0.0    187.0    0.0   \n",
              "4             4  41.0  0.0  2.0   130.0  204.0  0.0      2.0    172.0    0.0   \n",
              "..          ...   ...  ...  ...     ...    ...  ...      ...      ...    ...   \n",
              "297         297  57.0  0.0  4.0   140.0  241.0  0.0      0.0    123.0    1.0   \n",
              "298         298  45.0  1.0  1.0   110.0  264.0  0.0      0.0    132.0    0.0   \n",
              "299         299  68.0  1.0  4.0   144.0  193.0  1.0      0.0    141.0    0.0   \n",
              "300         300  57.0  1.0  4.0   130.0  131.0  0.0      0.0    115.0    1.0   \n",
              "301         301  57.0  0.0  2.0   130.0  236.0  0.0      2.0    174.0    0.0   \n",
              "\n",
              "     oldpeak  slope   ca thal  hd  \n",
              "0        2.3    3.0  0.0  6.0   0  \n",
              "1        1.5    2.0  3.0  3.0   2  \n",
              "2        2.6    2.0  2.0  7.0   1  \n",
              "3        3.5    3.0  0.0  3.0   0  \n",
              "4        1.4    1.0  0.0  3.0   0  \n",
              "..       ...    ...  ...  ...  ..  \n",
              "297      0.2    2.0  0.0  7.0   1  \n",
              "298      1.2    2.0  0.0  7.0   1  \n",
              "299      3.4    2.0  2.0  7.0   2  \n",
              "300      1.2    2.0  1.0  7.0   3  \n",
              "301      0.0    2.0  1.0  3.0   1  \n",
              "\n",
              "[297 rows x 15 columns]"
            ]
          },
          "execution_count": 5,
          "metadata": {},
          "output_type": "execute_result"
        }
      ],
      "source": [
        "df"
      ]
    },
    {
      "cell_type": "markdown",
      "metadata": {
        "id": "q7GJUPVABCiP"
      },
      "source": [
        "Realizar One hot enconding para las columnas 'cp', 'restecg', 'slope' y 'thal'."
      ]
    },
    {
      "cell_type": "code",
      "execution_count": null,
      "metadata": {
        "id": "jLTM3-pXBPxy",
        "outputId": "4fdbfcbe-654d-4b2f-da76-616571e76400"
      },
      "outputs": [
        {
          "data": {
            "text/html": [
              "<div>\n",
              "<style scoped>\n",
              "    .dataframe tbody tr th:only-of-type {\n",
              "        vertical-align: middle;\n",
              "    }\n",
              "\n",
              "    .dataframe tbody tr th {\n",
              "        vertical-align: top;\n",
              "    }\n",
              "\n",
              "    .dataframe thead th {\n",
              "        text-align: right;\n",
              "    }\n",
              "</style>\n",
              "<table border=\"1\" class=\"dataframe\">\n",
              "  <thead>\n",
              "    <tr style=\"text-align: right;\">\n",
              "      <th></th>\n",
              "      <th>Unnamed: 0</th>\n",
              "      <th>age</th>\n",
              "      <th>sex</th>\n",
              "      <th>restbp</th>\n",
              "      <th>chol</th>\n",
              "      <th>fbs</th>\n",
              "      <th>thalach</th>\n",
              "      <th>exang</th>\n",
              "      <th>oldpeak</th>\n",
              "      <th>ca</th>\n",
              "      <th>...</th>\n",
              "      <th>cp_4.0</th>\n",
              "      <th>restecg_0.0</th>\n",
              "      <th>restecg_1.0</th>\n",
              "      <th>restecg_2.0</th>\n",
              "      <th>slope_1.0</th>\n",
              "      <th>slope_2.0</th>\n",
              "      <th>slope_3.0</th>\n",
              "      <th>thal_3.0</th>\n",
              "      <th>thal_6.0</th>\n",
              "      <th>thal_7.0</th>\n",
              "    </tr>\n",
              "  </thead>\n",
              "  <tbody>\n",
              "    <tr>\n",
              "      <th>0</th>\n",
              "      <td>0</td>\n",
              "      <td>63.0</td>\n",
              "      <td>1.0</td>\n",
              "      <td>145.0</td>\n",
              "      <td>233.0</td>\n",
              "      <td>1.0</td>\n",
              "      <td>150.0</td>\n",
              "      <td>0.0</td>\n",
              "      <td>2.3</td>\n",
              "      <td>0.0</td>\n",
              "      <td>...</td>\n",
              "      <td>0</td>\n",
              "      <td>0</td>\n",
              "      <td>0</td>\n",
              "      <td>1</td>\n",
              "      <td>0</td>\n",
              "      <td>0</td>\n",
              "      <td>1</td>\n",
              "      <td>0</td>\n",
              "      <td>1</td>\n",
              "      <td>0</td>\n",
              "    </tr>\n",
              "    <tr>\n",
              "      <th>1</th>\n",
              "      <td>1</td>\n",
              "      <td>67.0</td>\n",
              "      <td>1.0</td>\n",
              "      <td>160.0</td>\n",
              "      <td>286.0</td>\n",
              "      <td>0.0</td>\n",
              "      <td>108.0</td>\n",
              "      <td>1.0</td>\n",
              "      <td>1.5</td>\n",
              "      <td>3.0</td>\n",
              "      <td>...</td>\n",
              "      <td>1</td>\n",
              "      <td>0</td>\n",
              "      <td>0</td>\n",
              "      <td>1</td>\n",
              "      <td>0</td>\n",
              "      <td>1</td>\n",
              "      <td>0</td>\n",
              "      <td>1</td>\n",
              "      <td>0</td>\n",
              "      <td>0</td>\n",
              "    </tr>\n",
              "    <tr>\n",
              "      <th>2</th>\n",
              "      <td>2</td>\n",
              "      <td>67.0</td>\n",
              "      <td>1.0</td>\n",
              "      <td>120.0</td>\n",
              "      <td>229.0</td>\n",
              "      <td>0.0</td>\n",
              "      <td>129.0</td>\n",
              "      <td>1.0</td>\n",
              "      <td>2.6</td>\n",
              "      <td>2.0</td>\n",
              "      <td>...</td>\n",
              "      <td>1</td>\n",
              "      <td>0</td>\n",
              "      <td>0</td>\n",
              "      <td>1</td>\n",
              "      <td>0</td>\n",
              "      <td>1</td>\n",
              "      <td>0</td>\n",
              "      <td>0</td>\n",
              "      <td>0</td>\n",
              "      <td>1</td>\n",
              "    </tr>\n",
              "    <tr>\n",
              "      <th>3</th>\n",
              "      <td>3</td>\n",
              "      <td>37.0</td>\n",
              "      <td>1.0</td>\n",
              "      <td>130.0</td>\n",
              "      <td>250.0</td>\n",
              "      <td>0.0</td>\n",
              "      <td>187.0</td>\n",
              "      <td>0.0</td>\n",
              "      <td>3.5</td>\n",
              "      <td>0.0</td>\n",
              "      <td>...</td>\n",
              "      <td>0</td>\n",
              "      <td>1</td>\n",
              "      <td>0</td>\n",
              "      <td>0</td>\n",
              "      <td>0</td>\n",
              "      <td>0</td>\n",
              "      <td>1</td>\n",
              "      <td>1</td>\n",
              "      <td>0</td>\n",
              "      <td>0</td>\n",
              "    </tr>\n",
              "    <tr>\n",
              "      <th>4</th>\n",
              "      <td>4</td>\n",
              "      <td>41.0</td>\n",
              "      <td>0.0</td>\n",
              "      <td>130.0</td>\n",
              "      <td>204.0</td>\n",
              "      <td>0.0</td>\n",
              "      <td>172.0</td>\n",
              "      <td>0.0</td>\n",
              "      <td>1.4</td>\n",
              "      <td>0.0</td>\n",
              "      <td>...</td>\n",
              "      <td>0</td>\n",
              "      <td>0</td>\n",
              "      <td>0</td>\n",
              "      <td>1</td>\n",
              "      <td>1</td>\n",
              "      <td>0</td>\n",
              "      <td>0</td>\n",
              "      <td>1</td>\n",
              "      <td>0</td>\n",
              "      <td>0</td>\n",
              "    </tr>\n",
              "    <tr>\n",
              "      <th>...</th>\n",
              "      <td>...</td>\n",
              "      <td>...</td>\n",
              "      <td>...</td>\n",
              "      <td>...</td>\n",
              "      <td>...</td>\n",
              "      <td>...</td>\n",
              "      <td>...</td>\n",
              "      <td>...</td>\n",
              "      <td>...</td>\n",
              "      <td>...</td>\n",
              "      <td>...</td>\n",
              "      <td>...</td>\n",
              "      <td>...</td>\n",
              "      <td>...</td>\n",
              "      <td>...</td>\n",
              "      <td>...</td>\n",
              "      <td>...</td>\n",
              "      <td>...</td>\n",
              "      <td>...</td>\n",
              "      <td>...</td>\n",
              "      <td>...</td>\n",
              "    </tr>\n",
              "    <tr>\n",
              "      <th>297</th>\n",
              "      <td>297</td>\n",
              "      <td>57.0</td>\n",
              "      <td>0.0</td>\n",
              "      <td>140.0</td>\n",
              "      <td>241.0</td>\n",
              "      <td>0.0</td>\n",
              "      <td>123.0</td>\n",
              "      <td>1.0</td>\n",
              "      <td>0.2</td>\n",
              "      <td>0.0</td>\n",
              "      <td>...</td>\n",
              "      <td>1</td>\n",
              "      <td>1</td>\n",
              "      <td>0</td>\n",
              "      <td>0</td>\n",
              "      <td>0</td>\n",
              "      <td>1</td>\n",
              "      <td>0</td>\n",
              "      <td>0</td>\n",
              "      <td>0</td>\n",
              "      <td>1</td>\n",
              "    </tr>\n",
              "    <tr>\n",
              "      <th>298</th>\n",
              "      <td>298</td>\n",
              "      <td>45.0</td>\n",
              "      <td>1.0</td>\n",
              "      <td>110.0</td>\n",
              "      <td>264.0</td>\n",
              "      <td>0.0</td>\n",
              "      <td>132.0</td>\n",
              "      <td>0.0</td>\n",
              "      <td>1.2</td>\n",
              "      <td>0.0</td>\n",
              "      <td>...</td>\n",
              "      <td>0</td>\n",
              "      <td>1</td>\n",
              "      <td>0</td>\n",
              "      <td>0</td>\n",
              "      <td>0</td>\n",
              "      <td>1</td>\n",
              "      <td>0</td>\n",
              "      <td>0</td>\n",
              "      <td>0</td>\n",
              "      <td>1</td>\n",
              "    </tr>\n",
              "    <tr>\n",
              "      <th>299</th>\n",
              "      <td>299</td>\n",
              "      <td>68.0</td>\n",
              "      <td>1.0</td>\n",
              "      <td>144.0</td>\n",
              "      <td>193.0</td>\n",
              "      <td>1.0</td>\n",
              "      <td>141.0</td>\n",
              "      <td>0.0</td>\n",
              "      <td>3.4</td>\n",
              "      <td>2.0</td>\n",
              "      <td>...</td>\n",
              "      <td>1</td>\n",
              "      <td>1</td>\n",
              "      <td>0</td>\n",
              "      <td>0</td>\n",
              "      <td>0</td>\n",
              "      <td>1</td>\n",
              "      <td>0</td>\n",
              "      <td>0</td>\n",
              "      <td>0</td>\n",
              "      <td>1</td>\n",
              "    </tr>\n",
              "    <tr>\n",
              "      <th>300</th>\n",
              "      <td>300</td>\n",
              "      <td>57.0</td>\n",
              "      <td>1.0</td>\n",
              "      <td>130.0</td>\n",
              "      <td>131.0</td>\n",
              "      <td>0.0</td>\n",
              "      <td>115.0</td>\n",
              "      <td>1.0</td>\n",
              "      <td>1.2</td>\n",
              "      <td>1.0</td>\n",
              "      <td>...</td>\n",
              "      <td>1</td>\n",
              "      <td>1</td>\n",
              "      <td>0</td>\n",
              "      <td>0</td>\n",
              "      <td>0</td>\n",
              "      <td>1</td>\n",
              "      <td>0</td>\n",
              "      <td>0</td>\n",
              "      <td>0</td>\n",
              "      <td>1</td>\n",
              "    </tr>\n",
              "    <tr>\n",
              "      <th>301</th>\n",
              "      <td>301</td>\n",
              "      <td>57.0</td>\n",
              "      <td>0.0</td>\n",
              "      <td>130.0</td>\n",
              "      <td>236.0</td>\n",
              "      <td>0.0</td>\n",
              "      <td>174.0</td>\n",
              "      <td>0.0</td>\n",
              "      <td>0.0</td>\n",
              "      <td>1.0</td>\n",
              "      <td>...</td>\n",
              "      <td>0</td>\n",
              "      <td>0</td>\n",
              "      <td>0</td>\n",
              "      <td>1</td>\n",
              "      <td>0</td>\n",
              "      <td>1</td>\n",
              "      <td>0</td>\n",
              "      <td>1</td>\n",
              "      <td>0</td>\n",
              "      <td>0</td>\n",
              "    </tr>\n",
              "  </tbody>\n",
              "</table>\n",
              "<p>297 rows × 24 columns</p>\n",
              "</div>"
            ],
            "text/plain": [
              "     Unnamed: 0   age  sex  restbp   chol  fbs  thalach  exang  oldpeak   ca  \\\n",
              "0             0  63.0  1.0   145.0  233.0  1.0    150.0    0.0      2.3  0.0   \n",
              "1             1  67.0  1.0   160.0  286.0  0.0    108.0    1.0      1.5  3.0   \n",
              "2             2  67.0  1.0   120.0  229.0  0.0    129.0    1.0      2.6  2.0   \n",
              "3             3  37.0  1.0   130.0  250.0  0.0    187.0    0.0      3.5  0.0   \n",
              "4             4  41.0  0.0   130.0  204.0  0.0    172.0    0.0      1.4  0.0   \n",
              "..          ...   ...  ...     ...    ...  ...      ...    ...      ...  ...   \n",
              "297         297  57.0  0.0   140.0  241.0  0.0    123.0    1.0      0.2  0.0   \n",
              "298         298  45.0  1.0   110.0  264.0  0.0    132.0    0.0      1.2  0.0   \n",
              "299         299  68.0  1.0   144.0  193.0  1.0    141.0    0.0      3.4  2.0   \n",
              "300         300  57.0  1.0   130.0  131.0  0.0    115.0    1.0      1.2  1.0   \n",
              "301         301  57.0  0.0   130.0  236.0  0.0    174.0    0.0      0.0  1.0   \n",
              "\n",
              "     ...  cp_4.0  restecg_0.0  restecg_1.0  restecg_2.0  slope_1.0  slope_2.0  \\\n",
              "0    ...       0            0            0            1          0          0   \n",
              "1    ...       1            0            0            1          0          1   \n",
              "2    ...       1            0            0            1          0          1   \n",
              "3    ...       0            1            0            0          0          0   \n",
              "4    ...       0            0            0            1          1          0   \n",
              "..   ...     ...          ...          ...          ...        ...        ...   \n",
              "297  ...       1            1            0            0          0          1   \n",
              "298  ...       0            1            0            0          0          1   \n",
              "299  ...       1            1            0            0          0          1   \n",
              "300  ...       1            1            0            0          0          1   \n",
              "301  ...       0            0            0            1          0          1   \n",
              "\n",
              "     slope_3.0  thal_3.0  thal_6.0  thal_7.0  \n",
              "0            1         0         1         0  \n",
              "1            0         1         0         0  \n",
              "2            0         0         0         1  \n",
              "3            1         1         0         0  \n",
              "4            0         1         0         0  \n",
              "..         ...       ...       ...       ...  \n",
              "297          0         0         0         1  \n",
              "298          0         0         0         1  \n",
              "299          0         0         0         1  \n",
              "300          0         0         0         1  \n",
              "301          0         1         0         0  \n",
              "\n",
              "[297 rows x 24 columns]"
            ]
          },
          "execution_count": 6,
          "metadata": {},
          "output_type": "execute_result"
        }
      ],
      "source": [
        "#TODO One-Hot encoding\n",
        "df = pd.get_dummies(df, columns = ['cp','restecg','slope','thal'])\n",
        "df"
      ]
    },
    {
      "cell_type": "markdown",
      "metadata": {
        "id": "wm2F3_OgBRXH"
      },
      "source": [
        "Dado que la columna objetivo tiene más de dos categorías y vamos a realizar clasificación binaria, la convertiremos en una variable con dos clases: aquellos con valores mayores que cero los clasificaremos como 1, y los que tengan valor cero los dejamos como están.\n"
      ]
    },
    {
      "cell_type": "code",
      "execution_count": null,
      "metadata": {
        "id": "L3BBjpd28V8c",
        "outputId": "3cf5ba0e-ffd7-4b5b-9945-570867b21d02"
      },
      "outputs": [
        {
          "data": {
            "text/plain": [
              "0      0\n",
              "1      2\n",
              "2      1\n",
              "3      0\n",
              "4      0\n",
              "      ..\n",
              "297    1\n",
              "298    1\n",
              "299    2\n",
              "300    3\n",
              "301    1\n",
              "Name: hd, Length: 297, dtype: int64"
            ]
          },
          "execution_count": 7,
          "metadata": {},
          "output_type": "execute_result"
        }
      ],
      "source": [
        "df.hd"
      ]
    },
    {
      "cell_type": "code",
      "execution_count": null,
      "metadata": {
        "id": "I5s7LUIFPh0j",
        "outputId": "b3546420-2a7b-4ab1-9b67-507308b00a23"
      },
      "outputs": [
        {
          "data": {
            "text/plain": [
              "0      0\n",
              "1      1\n",
              "2      1\n",
              "3      0\n",
              "4      0\n",
              "      ..\n",
              "297    1\n",
              "298    1\n",
              "299    1\n",
              "300    1\n",
              "301    1\n",
              "Name: hd, Length: 297, dtype: int64"
            ]
          },
          "execution_count": 8,
          "metadata": {},
          "output_type": "execute_result"
        }
      ],
      "source": [
        "#TODO Modificar la columna objetivo para que tenga dos clases\n",
        "df.hd = df.hd.replace({0:0, 1:1, 2:1, 3:1, 4:1})\n",
        "df.hd"
      ]
    },
    {
      "cell_type": "code",
      "execution_count": null,
      "metadata": {
        "id": "FO59L5oA8V8e",
        "outputId": "9e5e3938-d5bc-474e-caf7-24b8193d3637"
      },
      "outputs": [
        {
          "data": {
            "text/plain": [
              "0    160\n",
              "1    137\n",
              "Name: hd, dtype: int64"
            ]
          },
          "execution_count": 9,
          "metadata": {},
          "output_type": "execute_result"
        }
      ],
      "source": [
        "df['hd'].value_counts()"
      ]
    },
    {
      "cell_type": "markdown",
      "metadata": {
        "id": "JQYrOl9MB_jC"
      },
      "source": [
        "Para el algoritmo de Máquina de Soporte Vectorial es conveniente que los datos estén estandarizados. Puede hacer uso de StandardScaler de SKlearn.\n",
        "\n",
        "**Ojo:** En esta ocasión realizaremos estandarizaciones independientes para X_train y X_test, debido a que el conjunto de conviene que el conjunto de testeo no contenga ningún tipo de información sobre el train set."
      ]
    },
    {
      "cell_type": "code",
      "execution_count": null,
      "metadata": {
        "id": "lOGI-_kH8V8f"
      },
      "outputs": [],
      "source": [
        "X = df.drop(['hd'], axis=1)\n",
        "y = df['hd']"
      ]
    },
    {
      "cell_type": "code",
      "execution_count": null,
      "metadata": {
        "id": "t1-5pz-uAeGn"
      },
      "outputs": [],
      "source": [
        "#TODO Estandarizar de manera independiente el conjunto X_train y el conjunto X_test\n",
        "X_train, X_test, y_train, y_test = train_test_split(X, y, test_size=0.25)"
      ]
    },
    {
      "cell_type": "code",
      "execution_count": null,
      "metadata": {
        "id": "JFaE854A8V8g"
      },
      "outputs": [],
      "source": [
        "from sklearn.preprocessing import StandardScaler\n",
        "sc = StandardScaler()\n",
        "X_train_scaled = sc.fit_transform(X_train)\n",
        "X_test_scaled = sc.transform(X_test)"
      ]
    },
    {
      "cell_type": "code",
      "execution_count": null,
      "metadata": {
        "id": "nO21Pya38V8g",
        "outputId": "0124fcce-c037-473e-bce5-dfc862e8881e"
      },
      "outputs": [
        {
          "name": "stdout",
          "output_type": "stream",
          "text": [
            "X train standard\n",
            "[[ 0.01707432  0.03487605  0.71428571 ... -1.12485827 -0.25943726\n",
            "   1.28173989]\n",
            " [ 0.76595714  1.04476519 -1.4        ...  0.88900089 -0.25943726\n",
            "  -0.7801895 ]\n",
            " [ 0.54705293  0.48371567  0.71428571 ...  0.88900089 -0.25943726\n",
            "  -0.7801895 ]\n",
            " ...\n",
            " [-1.46917004  0.59592557  0.71428571 ... -1.12485827 -0.25943726\n",
            "   1.28173989]\n",
            " [-0.20182989 -1.3116428  -1.4        ...  0.88900089 -0.25943726\n",
            "  -0.7801895 ]\n",
            " [-1.01984035 -0.07733385 -1.4        ...  0.88900089 -0.25943726\n",
            "  -0.7801895 ]]\n",
            "X test standard\n",
            "[[-1.36547857  0.48371567  0.71428571 ... -1.12485827 -0.25943726\n",
            "   1.28173989]\n",
            " [ 0.42031891 -0.07733385  0.71428571 ... -1.12485827 -0.25943726\n",
            "   1.28173989]\n",
            " [-1.72263807  1.3813949   0.71428571 ... -1.12485827 -0.25943726\n",
            "   1.28173989]\n",
            " ...\n",
            " [-0.27095753 -1.19943289  0.71428571 ...  0.88900089 -0.25943726\n",
            "  -0.7801895 ]\n",
            " [-0.90462761  1.15697509  0.71428571 ... -1.12485827  3.85449645\n",
            "  -0.7801895 ]\n",
            " [ 0.59313803  1.04476519 -1.4        ... -1.12485827 -0.25943726\n",
            "   1.28173989]]\n"
          ]
        }
      ],
      "source": [
        "print(\"X train standard\")\n",
        "print(X_train_scaled)\n",
        "print(\"X test standard\")\n",
        "print(X_test_scaled)"
      ]
    },
    {
      "cell_type": "markdown",
      "metadata": {
        "id": "eGNEbnFeCEM8"
      },
      "source": [
        "Entrenar un clasificador de Máquina de Soporte Vectorial de SKLearn. Ver [documentación](https://scikit-learn.org/stable/modules/svm.html) de ser necesario."
      ]
    },
    {
      "cell_type": "code",
      "execution_count": null,
      "metadata": {
        "id": "JClxxq4-8V8h",
        "outputId": "d2c61669-efac-4509-97b4-42e1c7806ff3"
      },
      "outputs": [
        {
          "data": {
            "text/plain": [
              "array([[ 0.01707432,  0.03487605,  0.71428571, ..., -1.12485827,\n",
              "        -0.25943726,  1.28173989],\n",
              "       [ 0.76595714,  1.04476519, -1.4       , ...,  0.88900089,\n",
              "        -0.25943726, -0.7801895 ],\n",
              "       [ 0.54705293,  0.48371567,  0.71428571, ...,  0.88900089,\n",
              "        -0.25943726, -0.7801895 ],\n",
              "       ...,\n",
              "       [-1.46917004,  0.59592557,  0.71428571, ..., -1.12485827,\n",
              "        -0.25943726,  1.28173989],\n",
              "       [-0.20182989, -1.3116428 , -1.4       , ...,  0.88900089,\n",
              "        -0.25943726, -0.7801895 ],\n",
              "       [-1.01984035, -0.07733385, -1.4       , ...,  0.88900089,\n",
              "        -0.25943726, -0.7801895 ]])"
            ]
          },
          "execution_count": 14,
          "metadata": {},
          "output_type": "execute_result"
        }
      ],
      "source": [
        "X_train_scaled"
      ]
    },
    {
      "cell_type": "code",
      "execution_count": null,
      "metadata": {
        "id": "Lc4h9ZfACDDy",
        "outputId": "2dd70659-2579-43b7-c930-5b296255a099"
      },
      "outputs": [
        {
          "data": {
            "text/plain": [
              "array([1, 0, 1, 0, 0, 1, 0, 0, 0, 0, 1, 1, 1, 1, 0, 0, 1, 1, 0, 1, 0, 0,\n",
              "       0, 0, 1, 0, 0, 1, 1, 0, 1, 1, 1, 0, 1, 0, 1, 1, 1, 1, 1, 0, 0, 0,\n",
              "       1, 0, 0, 1, 0, 1, 0, 0, 0, 0, 1, 0, 1, 1, 0, 1, 0, 1, 0, 0, 0, 0,\n",
              "       1, 0, 0, 0, 1, 1, 0, 1, 0], dtype=int64)"
            ]
          },
          "execution_count": 15,
          "metadata": {},
          "output_type": "execute_result"
        }
      ],
      "source": [
        "#TODO Entrenar SVM con nuestro conjunto de entrenamiento.\n",
        "from sklearn import svm\n",
        "clf = svm.SVC(random_state = 0)\n",
        "clf.fit(X_train_scaled, y_train)\n",
        "pred = clf.predict(X_test_scaled)\n",
        "pred"
      ]
    },
    {
      "cell_type": "code",
      "execution_count": null,
      "metadata": {
        "id": "GejQTxC78V8h",
        "outputId": "d59c75f7-8cb7-4b84-cb90-10959fd915d3"
      },
      "outputs": [
        {
          "data": {
            "text/plain": [
              "0.88"
            ]
          },
          "execution_count": 16,
          "metadata": {},
          "output_type": "execute_result"
        }
      ],
      "source": [
        "from sklearn.metrics import precision_score\n",
        "from sklearn.metrics import accuracy_score\n",
        "accuracy_score(y_test, pred)"
      ]
    },
    {
      "cell_type": "markdown",
      "metadata": {
        "id": "R60HWrTsCaYY"
      },
      "source": [
        "La **matriz de confusión** es una pequeña matriz que nos indica la cantidad de datos bien clasificados en cada una de las categorías. Observar el gráfico que se porduce a continuación. La matriz en este caso contrasta, por ejemplo, la cantidad **predichas** por el modelo como pacientes con o sin enfermedad con las cantidades de pacientes **etiquetados** realmente con o sin enfermedad del corazón. (Más adelante discuturemos más sobre la matriz de confusión y otras métricas)."
      ]
    },
    {
      "cell_type": "code",
      "execution_count": null,
      "metadata": {
        "id": "U0SNBZgpCcgJ",
        "outputId": "a59a7a15-d779-4caf-be88-cf91bb77e767"
      },
      "outputs": [
        {
          "name": "stderr",
          "output_type": "stream",
          "text": [
            "C:\\ProgramData\\Anaconda3\\lib\\site-packages\\sklearn\\utils\\deprecation.py:87: FutureWarning: Function plot_confusion_matrix is deprecated; Function `plot_confusion_matrix` is deprecated in 1.0 and will be removed in 1.2. Use one of the class methods: ConfusionMatrixDisplay.from_predictions or ConfusionMatrixDisplay.from_estimator.\n",
            "  warnings.warn(msg, category=FutureWarning)\n"
          ]
        },
        {
          "data": {
            "text/plain": [
              "<sklearn.metrics._plot.confusion_matrix.ConfusionMatrixDisplay at 0x17998465eb0>"
            ]
          },
          "execution_count": 17,
          "metadata": {},
          "output_type": "execute_result"
        },
        {
          "data": {
            "image/png": "[encoded data removed]",
            "text/plain": [
              "<Figure size 432x288 with 2 Axes>"
            ]
          },
          "metadata": {
            "needs_background": "light"
          },
          "output_type": "display_data"
        }
      ],
      "source": [
        "plot_confusion_matrix(clf,\n",
        "                      X_test_scaled,\n",
        "                      y_test,\n",
        "                      display_labels=[\"Does not have HD\", \"Has HD\"])"
      ]
    },
    {
      "cell_type": "markdown",
      "metadata": {
        "id": "wk9lGfURLyk9"
      },
      "source": [
        "TO DO: De acuerdo a la matriz anterior, cuál fue el accuracy de éste modelo? ¿Qué porcentaje de pacientes **sin** enfermedad de corazón quedaron bién clasificados? ¿Qué porcentaje de pacientes **con** enfermedad del corazón quedaron bién clasificados?"
      ]
    },
    {
      "cell_type": "markdown",
      "metadata": {
        "id": "a915CQ6G8V8j"
      },
      "source": [
        "Basados en la anterior grafica podemos deducir que el numero de pacientes que no tienen la enfermedad del corazón que están bien clasificados son 36, por otro lado, los pacientes que tienen la enfermedad y quedaron bien clasificados son 30, mientras que las personas que no tenian ningún tipo de enfermedad pero que fueron clasificados como si la tuvieran fueron 4, y de forma contraria  las personas que tienen la enfermedad y fueron clasificados como si no tuvieran la enfermedad son 5, cabe resaltar que el accuracy obtenido fue del 88%, que son los valores predecidos correctamente."
      ]
    },
    {
      "cell_type": "markdown",
      "metadata": {
        "id": "NrWEzIacCr1D"
      },
      "source": [
        "Veamos si podemos mejorar estas métricas cambiando los hiperparámetros del modelo. Para esto utilizaremos GridSearch, para encontrar la mejor combinación de hiperparámetros 'C' y 'gamma'. Usaremos Kernel radial (RBF)."
      ]
    },
    {
      "cell_type": "code",
      "execution_count": null,
      "metadata": {
        "id": "6o86FR0PCq8m",
        "outputId": "4ec2e314-d8fc-400d-dd26-a181f8f0490c"
      },
      "outputs": [
        {
          "name": "stdout",
          "output_type": "stream",
          "text": [
            "{'C': 1, 'gamma': 0.0001, 'kernel': 'rbf'}\n"
          ]
        }
      ],
      "source": [
        "num_features = np.size(X_train_scaled, axis=1)\n",
        "param_grid = [\n",
        "  {'C': [1, 10, 100, 1000],\n",
        "   'gamma': [1/num_features, 1, 0.1, 0.01, 0.001, 0.0001],\n",
        "   'kernel': ['rbf']},\n",
        "]\n",
        "\n",
        "\n",
        "optimal_params = GridSearchCV(\n",
        "        SVC(),\n",
        "        param_grid,\n",
        "        cv=5,\n",
        "        scoring='roc_auc',\n",
        "        verbose=0\n",
        "    )\n",
        "\n",
        "optimal_params.fit(X_train_scaled, y_train)\n",
        "print(optimal_params.best_params_)"
      ]
    },
    {
      "cell_type": "markdown",
      "metadata": {
        "id": "juLnm4GfN4aW"
      },
      "source": [
        "Observe qué parametros se obtunvieron como óptimos entre los rangos seleccionados. A continuación utilicemos dichos parámetros para ver si mejoran los porcentajes."
      ]
    },
    {
      "cell_type": "code",
      "execution_count": null,
      "metadata": {
        "id": "gRkC4PFYGRHi",
        "outputId": "5cd8e51c-a7de-4e16-8a33-4b9cffcc1c86"
      },
      "outputs": [
        {
          "data": {
            "text/plain": [
              "SVC(C=10, gamma=0.0001, random_state=42)"
            ]
          },
          "execution_count": 19,
          "metadata": {},
          "output_type": "execute_result"
        }
      ],
      "source": [
        "#TODO Entrenar un SVM con los parámetros óptimos. GRaficar la matriz de confusión y comparar\n",
        "clf_svm = SVC(random_state=42, C=10, gamma=0.0001) #Completar\n",
        "clf_svm.fit(X_train_scaled, y_train)\n"
      ]
    },
    {
      "cell_type": "code",
      "execution_count": null,
      "metadata": {
        "id": "bH_rkZ0N8V8m",
        "outputId": "f3c75b5f-b3e6-48ce-b9b1-7bcc2ac681be"
      },
      "outputs": [
        {
          "name": "stderr",
          "output_type": "stream",
          "text": [
            "C:\\ProgramData\\Anaconda3\\lib\\site-packages\\sklearn\\utils\\deprecation.py:87: FutureWarning: Function plot_confusion_matrix is deprecated; Function `plot_confusion_matrix` is deprecated in 1.0 and will be removed in 1.2. Use one of the class methods: ConfusionMatrixDisplay.from_predictions or ConfusionMatrixDisplay.from_estimator.\n",
            "  warnings.warn(msg, category=FutureWarning)\n"
          ]
        },
        {
          "data": {
            "text/plain": [
              "<sklearn.metrics._plot.confusion_matrix.ConfusionMatrixDisplay at 0x17998bb00a0>"
            ]
          },
          "execution_count": 20,
          "metadata": {},
          "output_type": "execute_result"
        },
        {
          "data": {
            "image/png": "[encoded data removed]",
            "text/plain": [
              "<Figure size 432x288 with 2 Axes>"
            ]
          },
          "metadata": {
            "needs_background": "light"
          },
          "output_type": "display_data"
        }
      ],
      "source": [
        "plot_confusion_matrix(clf_svm,\n",
        "                      X_test_scaled,\n",
        "                      y_test,\n",
        "                      display_labels=[\"Does not have HD\", \"Has HD\"])"
      ]
    },
    {
      "cell_type": "markdown",
      "metadata": {
        "id": "l8-DX64k8V8n"
      },
      "source": [
        "Basados en la anterior grafica podemos deducir que el numero de pacientes que no tienen la enfermedad del corazón que están bien clasificados son 49.3%, por otro lado, los pacientes que tienen la enfermedad y quedaron bien clasificados son 38.66%, mientras que las personas que no tenian ningún tipo de enfermedad pero que fueron clasificados como si la tuvieran fueron 4%, y de forma contraria las personas que tienen la enfermedad y fueron clasificados como si no tuvieran la enfermedad son 8%. Como observaciones adicionales, nos cambio muy poco el modelo a comparacion del anterior, unicamente disminuyo el porcentaje de bien clasificados que tienen la enfermedad y aumento los mal clasificados que tienen la enfermedad."
      ]
    },
    {
      "cell_type": "markdown",
      "metadata": {
        "id": "pRw9qMYgHK2C"
      },
      "source": [
        "Queremos visualizar el resultado de entrenad un clasificador de Máquina de soporte vectorial. Sin embargo nuestros datos están en una dimensión que no podemos visualizar. Es por eso que haremos una reducción de la dimensionalidad de nuestros datos mediante un método llamado Principal Component Analysis (en el cual ahondaremos más adelante)."
      ]
    },
    {
      "cell_type": "code",
      "execution_count": null,
      "metadata": {
        "id": "J5c74VraHJYT"
      },
      "outputs": [],
      "source": [
        "pca = PCA()\n",
        "X_train_pca = pca.fit_transform(X_train_scaled)"
      ]
    },
    {
      "cell_type": "markdown",
      "metadata": {
        "id": "WP2mzngzHMmq"
      },
      "source": [
        "A continuación entrenaremos nuevamente un clasificador de SVM para nuestros datos con dimensión reducida, demanera que podamos visualizar la clasificación. Primero encontramos los parámetros óptimos"
      ]
    },
    {
      "cell_type": "code",
      "execution_count": null,
      "metadata": {
        "id": "hY2wu5MIHRsc",
        "outputId": "ba51677d-af06-47ca-dc0d-11f9840c3513"
      },
      "outputs": [
        {
          "name": "stdout",
          "output_type": "stream",
          "text": [
            "{'C': 1, 'gamma': 0.01, 'kernel': 'rbf'}\n"
          ]
        }
      ],
      "source": [
        "train_pc1_coords = X_train_pca[:, 0]\n",
        "train_pc2_coords = X_train_pca[:, 1]\n",
        "\n",
        "\n",
        "## pc1 contiene las coordenadas del eje x, después de aplicar PCA.\n",
        "## pc2 contiene las coordenadas del eje y, después de aplicar PCA.\n",
        "\n",
        "## Ahora centramos y escalamos los datos.\n",
        "pca_train_scaled = preprocessing.scale(np.column_stack((train_pc1_coords, train_pc2_coords)))\n",
        "\n",
        "## Optimizamos los hiperparámetros con los datos luego de la reducción de dimensión\n",
        "\n",
        "num_features = np.size(pca_train_scaled, axis=1)\n",
        "param_grid = [\n",
        "  {'C': [1, 10, 100, 1000],\n",
        "   'gamma': [1/num_features, 1, 0.1, 0.01, 0.001, 0.0001],\n",
        "   'kernel': ['rbf']},\n",
        "]\n",
        "\n",
        "optimal_params = GridSearchCV(\n",
        "        SVC(),\n",
        "        param_grid,\n",
        "        cv=5,\n",
        "        scoring='roc_auc',\n",
        "        verbose=0\n",
        "    )\n",
        "\n",
        "optimal_params.fit(pca_train_scaled, y_train)\n",
        "print(optimal_params.best_params_)"
      ]
    },
    {
      "cell_type": "markdown",
      "metadata": {
        "id": "43AbKz7sPi77"
      },
      "source": [
        "Finalmente entrenamos nuestro clasificador con los parámetros óptimos y visualizamos su trabajo."
      ]
    },
    {
      "cell_type": "code",
      "execution_count": null,
      "metadata": {
        "id": "_0fy4MPFHWgq",
        "outputId": "4e252216-e08e-4ad8-b40f-0b7a4e59f7f2"
      },
      "outputs": [
        {
          "data": {
            "image/png": "[encoded data removed]",
            "text/plain": [
              "<Figure size 720x720 with 1 Axes>"
            ]
          },
          "metadata": {
            "needs_background": "light"
          },
          "output_type": "display_data"
        }
      ],
      "source": [
        "clf_svm = SVC(random_state=42, C=10, gamma=0.0001) #Completar\n",
        "clf_svm.fit(pca_train_scaled, y_train)\n",
        "\n",
        "X_test_pca = pca.transform(X_test_scaled)\n",
        "test_pc1_coords = X_test_pca[:, 0]\n",
        "test_pc2_coords = X_test_pca[:, 1]\n",
        "\n",
        "x_min = test_pc1_coords.min() - 1\n",
        "x_max = test_pc1_coords.max() + 1\n",
        "\n",
        "y_min = test_pc2_coords.min() - 1\n",
        "y_max = test_pc2_coords.max() + 1\n",
        "\n",
        "xx, yy = np.meshgrid(np.arange(start=x_min, stop=x_max, step=0.1),\n",
        "                     np.arange(start=y_min, stop=y_max, step=0.1))\n",
        "\n",
        "\n",
        "Z = clf_svm.predict(np.column_stack((xx.ravel(), yy.ravel())))\n",
        "\n",
        "Z = Z.reshape(xx.shape)\n",
        "\n",
        "fig, ax = plt.subplots(figsize=(10,10))\n",
        "\n",
        "ax.contourf(xx, yy, Z, alpha=0.1)\n",
        "\n",
        "\n",
        "cmap = colors.ListedColormap(['#e41a1c', '#4daf4a'])\n",
        "\n",
        "\n",
        "scatter = ax.scatter(test_pc1_coords, test_pc2_coords, c=y_test,\n",
        "               cmap=cmap,\n",
        "               s=100,\n",
        "               edgecolors='k',\n",
        "               alpha=0.7)\n",
        "\n",
        "legend = ax.legend(scatter.legend_elements()[0],\n",
        "                   scatter.legend_elements()[1],\n",
        "                    loc=\"upper right\")\n",
        "legend.get_texts()[0].set_text(\"No HD\")\n",
        "legend.get_texts()[1].set_text(\"Yes HD\")\n",
        "\n",
        "\n",
        "ax.set_ylabel('PC2')\n",
        "ax.set_xlabel('PC1')\n",
        "ax.set_title('Decison surface using the PCA transformed/projected features')\n",
        "\n",
        "plt.show()"
      ]
    },
    {
      "cell_type": "markdown",
      "metadata": {
        "id": "ww7lARCO8V82"
      },
      "source": [
        "En la grafica anterior observamos que la clasificación de los dos grupos se dio bastante bien, en especial en la clasificación de los positivos, en el otro grupo podemos ver positivos y negativos pero la mayoria son negativos, así que el margen de error no es muy grande."
      ]
    }
  ],
  "metadata": {
    "colab": {
      "provenance": []
    },
    "kernelspec": {
      "display_name": "Python 3 (ipykernel)",
      "language": "python",
      "name": "python3"
    },
    "language_info": {
      "codemirror_mode": {
        "name": "ipython",
        "version": 3
      },
      "file_extension": ".py",
      "mimetype": "text/x-python",
      "name": "python",
      "nbconvert_exporter": "python",
      "pygments_lexer": "ipython3",
      "version": "3.9.12"
    }
  },
  "nbformat": 4,
  "nbformat_minor": 0
}